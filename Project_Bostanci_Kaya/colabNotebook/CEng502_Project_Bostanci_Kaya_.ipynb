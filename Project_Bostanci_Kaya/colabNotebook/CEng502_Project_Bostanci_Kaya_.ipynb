{
  "nbformat": 4,
  "nbformat_minor": 0,
  "metadata": {
    "colab": {
      "name": "CEng502_Project_Bostanci_Kaya/.ipynb",
      "provenance": []
    },
    "kernelspec": {
      "name": "python3",
      "display_name": "Python 3"
    },
    "language_info": {
      "name": "python"
    },
    "accelerator": "GPU"
  },
  "cells": [
    {
      "cell_type": "markdown",
      "source": [
        "Run the following command to install gym3 packade to your Colab repository. \n",
        "\n",
        "After the installation, you need to restart Colab runtime."
      ],
      "metadata": {
        "id": "gE0FeN4gkenC"
      }
    },
    {
      "cell_type": "code",
      "source": [
        "pip install gym3"
      ],
      "metadata": {
        "id": "IsWW6KzUSrXf"
      },
      "execution_count": null,
      "outputs": []
    },
    {
      "cell_type": "markdown",
      "source": [
        "Run the following command to install gym-minigrid package to your Colab repository."
      ],
      "metadata": {
        "id": "iFcybUgqkyRx"
      }
    },
    {
      "cell_type": "code",
      "source": [
        "pip install gym-minigrid"
      ],
      "metadata": {
        "id": "YJbeLlqHTLAI"
      },
      "execution_count": null,
      "outputs": []
    },
    {
      "cell_type": "markdown",
      "source": [
        "Mount your Google Drive to Colab's repository.\n",
        "You need to give required permissions to Colab in order to have an access to your Google Drive."
      ],
      "metadata": {
        "id": "f3ZKQ2bwlJ2J"
      }
    },
    {
      "cell_type": "code",
      "execution_count": null,
      "metadata": {
        "colab": {
          "base_uri": "https://localhost:8080/"
        },
        "id": "ggmkZuGWRJgV",
        "outputId": "d3521248-a782-406a-e632-e5dbfcf98b8f"
      },
      "outputs": [
        {
          "output_type": "stream",
          "name": "stdout",
          "text": [
            "Mounted at /content/drive\n"
          ]
        }
      ],
      "source": [
        "from google.colab import drive\n",
        "drive.mount('/content/drive')"
      ]
    },
    {
      "cell_type": "markdown",
      "source": [
        "Run the following command to change your directory where you upload the source codes of the project.\n",
        "\n",
        "For example, if you upload the source codes  as follows: \n",
        "\n",
        "MyDrive\\FOLDER_YOU_UPLOAD_THE_SOURCE_CODE_IN_YOUR_DRIVE\\environments\\gridMaze\\lossWang\\run1\n",
        "\n",
        "you should run the code such that\n",
        "\n",
        "\n",
        "cd /content/drive/MyDrive/FOLDER_YOU_UPLOAD_THE_SOURCE_CODE_IN_YOUR_DRIVE/environments/gridMaze/lossWang/run1\n",
        "\n",
        "\n",
        "\n"
      ],
      "metadata": {
        "id": "WIAaEu2PlcO0"
      }
    },
    {
      "cell_type": "code",
      "source": [
        "cd /content/drive/MyDrive/CEng502-AdvancedDeepLearning/ExperimentCodes/Wu_GridRoom_Run3/laplacian_code_Wu/"
      ],
      "metadata": {
        "colab": {
          "base_uri": "https://localhost:8080/"
        },
        "id": "eTlCfeT2Rtuo",
        "outputId": "a0f0fd8f-2dc8-41b0-94fb-e021b54fc47e"
      },
      "execution_count": null,
      "outputs": [
        {
          "output_type": "stream",
          "name": "stdout",
          "text": [
            "/content/drive/MyDrive/CEng502-AdvancedDeepLearning/ExperimentCodes/Wu_GridRoom_Run3/laplacian_code_Wu\n"
          ]
        }
      ]
    },
    {
      "cell_type": "markdown",
      "source": [
        "Run the following code to obtain Laplacian representations"
      ],
      "metadata": {
        "id": "JEOIbYKxm6rx"
      }
    },
    {
      "cell_type": "code",
      "source": [
        "!python train_laprepr.py --env_id=HardMaze --log_sub_dir=test --args=\"w_neg=1.0\""
      ],
      "metadata": {
        "id": "cicX_c3tSD9b"
      },
      "execution_count": null,
      "outputs": []
    },
    {
      "cell_type": "markdown",
      "source": [
        "Run the following code to conduct reinforcement learning experiments"
      ],
      "metadata": {
        "id": "JL93vxZ0nUUu"
      }
    },
    {
      "cell_type": "code",
      "source": [
        "!python train_dqn_repr.py --log_sub_dir=mix --env_id=HardMaze --repr_ckpt_sub_path=laprepr/HardMaze/test/model.ckpt --reward_mode=mix"
      ],
      "metadata": {
        "id": "6u5PSv2U53p7"
      },
      "execution_count": null,
      "outputs": []
    },
    {
      "cell_type": "markdown",
      "source": [
        "Run the following code to get representation results"
      ],
      "metadata": {
        "id": "a6eKfsG7nFEJ"
      }
    },
    {
      "cell_type": "code",
      "source": [
        "!python visualize_reprs.py --log_sub_dir=laprepr/HardMaze/test"
      ],
      "metadata": {
        "id": "8N-yDJrX3PDG"
      },
      "execution_count": null,
      "outputs": []
    }
  ]
}